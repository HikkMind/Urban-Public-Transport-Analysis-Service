{
 "cells": [
  {
   "cell_type": "markdown",
   "metadata": {},
   "source": [
    "# Геокоддер"
   ]
  },
  {
   "cell_type": "code",
   "execution_count": null,
   "metadata": {},
   "outputs": [],
   "source": [
    "from public_transport_osmnx.osmnx import geocode_to_gdf"
   ]
  },
  {
   "cell_type": "code",
   "execution_count": null,
   "metadata": {},
   "outputs": [],
   "source": [
    "gdf = geocode_to_gdf('Санкт-Петербург', which_result=1, tag_filter=\"type\")"
   ]
  },
  {
   "cell_type": "code",
   "execution_count": null,
   "metadata": {},
   "outputs": [],
   "source": [
    "gdf"
   ]
  },
  {
   "cell_type": "markdown",
   "metadata": {},
   "source": [
    "# Граф"
   ]
  },
  {
   "cell_type": "code",
   "execution_count": null,
   "metadata": {},
   "outputs": [],
   "source": [
    "import public_transport_osmnx.osmnx as ox"
   ]
  },
  {
   "cell_type": "code",
   "execution_count": null,
   "metadata": {},
   "outputs": [],
   "source": [
    "g, r, s, p = ox.graph_from_place(\"Санкт-Петербург\", simplify=False, retain_all=True, network_type=\"tram\")"
   ]
  },
  {
   "cell_type": "code",
   "execution_count": null,
   "metadata": {},
   "outputs": [],
   "source": [
    "ox.plot_graph(g)"
   ]
  },
  {
   "cell_type": "code",
   "execution_count": null,
   "metadata": {},
   "outputs": [],
   "source": [
    "g, r, s, p = ox.graph_from_place(\"Санкт-Петербург\", simplify=True, retain_all=True, network_type=\"tram\")"
   ]
  },
  {
   "cell_type": "code",
   "execution_count": null,
   "metadata": {},
   "outputs": [],
   "source": [
    "ox.plot_graph(g)"
   ]
  },
  {
   "cell_type": "markdown",
   "metadata": {},
   "source": [
    "# GeoDataFrame"
   ]
  },
  {
   "cell_type": "code",
   "execution_count": null,
   "metadata": {},
   "outputs": [],
   "source": [
    "import numpy as np"
   ]
  },
  {
   "cell_type": "code",
   "execution_count": null,
   "metadata": {},
   "outputs": [],
   "source": [
    "gdf_nodes, gdf_relationships = ox.graph_to_gdfs(g)"
   ]
  },
  {
   "cell_type": "code",
   "execution_count": null,
   "metadata": {},
   "outputs": [],
   "source": [
    "gdf_nodes.reset_index(inplace=True)\n",
    "gdf_relationships.reset_index(inplace=True)"
   ]
  },
  {
   "cell_type": "code",
   "execution_count": null,
   "metadata": {},
   "outputs": [],
   "source": [
    "gdf_nodes[\"geometry_wkt\"] = gdf_nodes[\"geometry\"].apply(lambda x: x.wkt)\n",
    "gdf_relationships[\"geometry_wkt\"] = gdf_relationships[\"geometry\"].apply(lambda x: x.wkt)"
   ]
  },
  {
   "cell_type": "markdown",
   "metadata": {},
   "source": [
    "# Neo4j"
   ]
  },
  {
   "cell_type": "code",
   "execution_count": null,
   "metadata": {},
   "outputs": [],
   "source": [
    "import neo4j\n",
    "\n",
    "\n",
    "NEO4J_URI = \"neo4j://localhost:7687\"\n",
    "NEO4J_USER = \"neo4j\"\n",
    "NEO4J_PASSWORD = \"123456789\"\n",
    "\n",
    "driver = neo4j.GraphDatabase.driver(NEO4J_URI, auth=(NEO4J_USER, NEO4J_PASSWORD))"
   ]
  },
  {
   "cell_type": "markdown",
   "metadata": {},
   "source": [
    "## Подсчет количества узлов в графе"
   ]
  },
  {
   "cell_type": "code",
   "execution_count": null,
   "metadata": {},
   "outputs": [],
   "source": [
    "CYPHER_QUERY = \"\"\"\n",
    "MATCH (n) RETURN COUNT(n) AS node_count\n",
    "\"\"\"\n",
    "\n",
    "def get_node_count(tx):\n",
    "    results = tx.run(CYPHER_QUERY)\n",
    "    df = results.to_df()\n",
    "    return df"
   ]
  },
  {
   "cell_type": "markdown",
   "metadata": {},
   "source": [
    "## Проверка на наличие графа в БД"
   ]
  },
  {
   "cell_type": "code",
   "execution_count": null,
   "metadata": {},
   "outputs": [],
   "source": [
    "COUNT_QUERY = \"\"\"\n",
    "MATCH (n) RETURN COUNT(n) AS node_count\n",
    "\"\"\"\n",
    "\n",
    "def is_clear(tx):\n",
    "    results = tx.run(COUNT_QUERY)\n",
    "    df = results.to_df()\n",
    "    return df.loc[0, \"node_count\"] == 0"
   ]
  },
  {
   "cell_type": "code",
   "execution_count": null,
   "metadata": {},
   "outputs": [],
   "source": [
    "with driver.session() as session:\n",
    "    df = session.execute_read(is_clear)"
   ]
  },
  {
   "cell_type": "code",
   "execution_count": null,
   "metadata": {},
   "outputs": [],
   "source": [
    "print(df)"
   ]
  },
  {
   "cell_type": "markdown",
   "metadata": {},
   "source": [
    "## Добавление графа в БД"
   ]
  },
  {
   "cell_type": "markdown",
   "metadata": {},
   "source": [
    "Определяем запросы"
   ]
  },
  {
   "cell_type": "code",
   "execution_count": null,
   "metadata": {},
   "outputs": [],
   "source": [
    "# First, define Cypher queries to create constraints and indexes\n",
    "\n",
    "constraint_query = \"CREATE CONSTRAINT IF NOT EXISTS FOR (i:Intersection) REQUIRE i.osmid IS UNIQUE\"\n",
    "\n",
    "rel_index_query = \"CREATE INDEX IF NOT EXISTS FOR ()-[r:ROAD_SEGMENT]-() ON r.osmids\"\n",
    "\n",
    "address_constraint_query = \"CREATE CONSTRAINT IF NOT EXISTS FOR (a:Address) REQUIRE a.id IS UNIQUE\"\n",
    "\n",
    "point_index_query = \"CREATE POINT INDEX IF NOT EXISTS FOR (i:Intersection) ON i.location\"\n",
    "\n",
    "# Cypher query to import our road network nodes GeoDataFrame\n",
    "\n",
    "node_query = '''\n",
    "    UNWIND $rows AS row\n",
    "    WITH row WHERE row.osmid IS NOT NULL\n",
    "    MERGE (s:Stop {osmid: row.osmid})\n",
    "        SET s.location = \n",
    "         point({latitude: row.y, longitude: row.x }),\n",
    "            s.name = row.name,\n",
    "            s.highway = row.highway,\n",
    "            s.public_transport = row.public_transport,\n",
    "            s.routes = row.routes,\n",
    "            s.tram = row.tram,\n",
    "            s.bus = row.bus,\n",
    "            s.geometry_wkt = row.geometry_wkt,\n",
    "            s.street_count = toInteger(row.street_count)\n",
    "    RETURN COUNT(*) as total\n",
    "    '''\n",
    "\n",
    "# Cypher query to import our road network relationships GeoDataFrame\n",
    "\n",
    "rels_query = '''\n",
    "    UNWIND $rows AS path\n",
    "    MATCH (u:Stop {osmid: path.u})\n",
    "    MATCH (v:Stop {osmid: path.v})\n",
    "    MERGE (u)-[r:ROUTE_SEGMENT {osmid: path.osmid}]->(v)\n",
    "        SET r.name = path.name,\n",
    "            r.highway = path.highway,\n",
    "            r.railway = path.railway,\n",
    "            r.oneway = path.oneway,\n",
    "            r.lanes = path.lanes,\n",
    "            r.max_speed = path.maxspeed,\n",
    "            r.geometry_wkt = path.geometry_wkt,\n",
    "            r.length = toFloat(path.length)\n",
    "    RETURN COUNT(*) AS total\n",
    "    '''"
   ]
  },
  {
   "cell_type": "markdown",
   "metadata": {},
   "source": [
    "Определяем функции"
   ]
  },
  {
   "cell_type": "code",
   "execution_count": null,
   "metadata": {},
   "outputs": [],
   "source": [
    "def create_constraints(tx):\n",
    "    result = tx.run(constraint_query)\n",
    "    result = tx.run(rel_index_query)\n",
    "    result = tx.run(address_constraint_query)\n",
    "    result = tx.run(point_index_query)"
   ]
  },
  {
   "cell_type": "code",
   "execution_count": null,
   "metadata": {},
   "outputs": [],
   "source": [
    "# Function to batch our GeoDataFrames\n",
    "\n",
    "def insert_data(tx, query, rows, batch_size=10000):\n",
    "    total = 0\n",
    "    batch = 0\n",
    "    \n",
    "    while batch * batch_size < len(rows):\n",
    "        results = tx.run(query, parameters = {'rows': rows[batch*batch_size:(batch+1)*batch_size].to_dict('records')}).data()\n",
    "        print(results)\n",
    "        total += results[0]['total']\n",
    "        batch += 1"
   ]
  },
  {
   "cell_type": "markdown",
   "metadata": {},
   "source": [
    "Запись в графа в БД"
   ]
  },
  {
   "cell_type": "code",
   "execution_count": null,
   "metadata": {},
   "outputs": [],
   "source": [
    "# Changing GeoDataFrame to insert data\n",
    "gdf_nodes, gdf_relationships = ox.graph_to_gdfs(g)\n",
    "gdf_nodes.reset_index(inplace=True)\n",
    "gdf_relationships.reset_index(inplace=True)\n",
    "gdf_nodes[\"geometry_wkt\"] = gdf_nodes[\"geometry\"].apply(lambda x: x.wkt)\n",
    "gdf_relationships[\"geometry_wkt\"] = gdf_relationships[\"geometry\"].apply(lambda x: x.wkt)\n",
    "\n",
    "# Run our constraints queries and nodes GeoDataFrame import\n",
    "\n",
    "with driver.session() as session:\n",
    "    session.execute_write(create_constraints)\n",
    "    session.execute_write(insert_data, node_query, gdf_nodes.drop(columns=[\"geometry\"]))\n",
    "\n",
    "# Run our relationships GeoDataFrame import\n",
    "\n",
    "with driver.session() as session:\n",
    "    session.execute_write(insert_data, rels_query, gdf_relationships.drop(columns=[\"geometry\"]))"
   ]
  }
 ],
 "metadata": {
  "kernelspec": {
   "display_name": "urban_topology",
   "language": "python",
   "name": "python3"
  },
  "language_info": {
   "codemirror_mode": {
    "name": "ipython",
    "version": 3
   },
   "file_extension": ".py",
   "mimetype": "text/x-python",
   "name": "python",
   "nbconvert_exporter": "python",
   "pygments_lexer": "ipython3",
   "version": "3.9.16"
  }
 },
 "nbformat": 4,
 "nbformat_minor": 2
}
