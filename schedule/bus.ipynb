{
  "cells": [
    {
      "cell_type": "code",
      "execution_count": null,
      "metadata": {
        "id": "u48Dkr1qJzQL"
      },
      "outputs": [],
      "source": [
        "import pandas as pd\n",
        "import requests\n",
        "from bs4 import BeautifulSoup\n",
        "import csv"
      ]
    },
    {
      "cell_type": "markdown",
      "metadata": {
        "id": "CCRak0lPkOUq"
      },
      "source": [
        "# Список маршрутов автобусов"
      ]
    },
    {
      "cell_type": "code",
      "execution_count": null,
      "metadata": {
        "id": "Ml6rUzG6lSbh"
      },
      "outputs": [],
      "source": [
        "url = \"https://kudikina.ru/spb/bus/\"\n",
        "\n",
        "response = requests.get(url)\n",
        "html = response.text\n",
        "soup = BeautifulSoup(html, \"html.parser\")\n",
        "\n",
        "bus_list = []\n",
        "bus_links = []\n",
        "\n",
        "bus_items = soup.find_all(\"a\", class_=\"bus-item bus-icon\")\n",
        "for item in bus_items:\n",
        "    bus_number = item.text.strip()\n",
        "    # bus_route = item.find(\"span\").text.strip()\n",
        "    href_link = item[\"href\"]\n",
        "    bus_links.append(href_link)\n",
        "    # bus_list.append([bus_number, bus_route, href_link])\n",
        "    bus_list.append([bus_number, href_link])"
      ]
    },
    {
      "cell_type": "code",
      "execution_count": null,
      "metadata": {
        "colab": {
          "base_uri": "https://localhost:8080/"
        },
        "id": "aCkWrTLSmNyF",
        "outputId": "be5c0a42-fde1-4265-cdde-710e669d7f66"
      },
      "outputs": [],
      "source": [
        "bus_list"
      ]
    },
    {
      "cell_type": "code",
      "execution_count": null,
      "metadata": {
        "colab": {
          "base_uri": "https://localhost:8080/"
        },
        "id": "Tq45nSwlmz9B",
        "outputId": "ac863ee8-4e38-416d-f2b2-fefa079c56ba"
      },
      "outputs": [],
      "source": [
        "bus_links"
      ]
    },
    {
      "cell_type": "markdown",
      "metadata": {
        "id": "_rvPmuGGMUtt"
      },
      "source": [
        "# Ссылки на автобусы"
      ]
    },
    {
      "cell_type": "code",
      "execution_count": null,
      "metadata": {
        "colab": {
          "base_uri": "https://localhost:8080/"
        },
        "id": "PUHAkYow_vK1",
        "outputId": "34b91c1e-3a86-4a41-80ab-1fb271761653"
      },
      "outputs": [],
      "source": [
        "data = pd.read_csv(\"/content/drive/MyDrive/bus_list full.csv\")\n",
        "\n",
        "\n",
        "bus_links = data[\"Href Link\"]\n",
        "\n",
        "\n",
        "for bus_link in bus_links:\n",
        "    full_link = f\"https://kudikina.ru{bus_link}\"\n",
        "    print(full_link)\n"
      ]
    },
    {
      "cell_type": "code",
      "execution_count": null,
      "metadata": {
        "id": "a0hZ9TyzNB1r"
      },
      "outputs": [],
      "source": [
        "data[\"new_lınk\"] = \"https://kudikina.ru\" + data[\"Href Link\"]"
      ]
    },
    {
      "cell_type": "markdown",
      "metadata": {
        "id": "EwGV1Z_dMpQB"
      },
      "source": [
        "# Остановки для маршрутов автобусов"
      ]
    },
    {
      "cell_type": "code",
      "execution_count": null,
      "metadata": {
        "colab": {
          "base_uri": "https://localhost:8080/",
          "height": 1000
        },
        "id": "ART-eIP4_91_",
        "outputId": "a3ab8af1-ba58-412c-e2f6-d2272d3cc76c"
      },
      "outputs": [],
      "source": [
        "# data = pd.read_csv(\"/content/drive/MyDrive/bus_list full.csv\")\n",
        "\n",
        "\n",
        "# bus_links = data[\"Href Link\"]\n",
        "\n",
        "\n",
        "for bus_link in bus_links:\n",
        "    full_link = f\"https://kudikina.ru{bus_link}/B\"\n",
        "    response = requests.get(full_link)\n",
        "\n",
        "    if response.status_code == 200:\n",
        "        soup = BeautifulSoup(response.text, \"html.parser\")\n",
        "        bus_stops = soup.find_all(\"div\", class_=\"bus-stop\")\n",
        "\n",
        "        print(f\" stops {full_link} link:\")\n",
        "        for stop in bus_stops:\n",
        "            stop_name = stop.find(\"a\").text.strip()\n",
        "            print(f\"{stop_name}\")"
      ]
    },
    {
      "cell_type": "markdown",
      "metadata": {
        "id": "BDTdJ80yOQxc"
      },
      "source": [
        "## Скачать данные"
      ]
    },
    {
      "cell_type": "markdown",
      "metadata": {},
      "source": [
        "При работе с Google Colab"
      ]
    },
    {
      "cell_type": "code",
      "execution_count": null,
      "metadata": {
        "colab": {
          "base_uri": "https://localhost:8080/",
          "height": 17
        },
        "id": "yeZN4TRYAK9G",
        "outputId": "5b3528b4-1402-4492-e26f-0e305f51a247"
      },
      "outputs": [],
      "source": [
        "import pandas as pd\n",
        "from google.colab import files\n",
        "\n",
        "df = pd.DataFrame(data)\n",
        "df.to_csv(\"bus_stopsb.csv\", index=False)\n",
        "\n",
        "files.download('bus_stopsb.csv')"
      ]
    },
    {
      "cell_type": "markdown",
      "metadata": {
        "id": "h0dBKi5sKnnc"
      },
      "source": [
        "# Расписание для маршрутов и остановок"
      ]
    },
    {
      "cell_type": "code",
      "execution_count": null,
      "metadata": {
        "colab": {
          "base_uri": "https://localhost:8080/",
          "height": 1000
        },
        "id": "j9rIQIz9V25i",
        "outputId": "9a9a9db0-ea86-456a-a367-d13ad213b0f4"
      },
      "outputs": [],
      "source": [
        "# data = pd.read_csv(\"/content/drive/MyDrive/bus_list full.csv\")\n",
        "# bus_links = data[\"Href Link\"]\n",
        "\n",
        "def print_bus_stops(soup):\n",
        "  bus_stops = soup.find(\"div\", class_=\"bus-stops\")\n",
        "\n",
        "  for bus_stop in bus_stops.find_all(\"div\", class_=\"row\"):\n",
        "    stop_name = bus_stop.find(\"div\", class_=\"bus-stop\").text.strip()\n",
        "\n",
        "    print(stop_name)\n",
        "\n",
        "    table_data = bus_stop.find(\"table\")\n",
        "\n",
        "    if table_data is not None:\n",
        "      interval_data = bus_stop.find(\"div\" , class_=\"interval-times\")\n",
        "      print(interval_data.text.strip())\n",
        "      print()\n",
        "      print(table_data.text.strip())\n",
        "      print()\n",
        "    else:\n",
        "      list_data = bus_stop.find(\"div\" , class_=\"stop-times\")\n",
        "      if list_data is not None:\n",
        "        print(list_data.text.strip())\n",
        "        print()\n",
        "\n",
        "\n",
        "for bus_link in bus_links:\n",
        "    full_link = f\"https://kudikina.ru{bus_link}/A\"\n",
        "    response = requests.get(full_link)\n",
        "\n",
        "    if response.status_code == 200:\n",
        "      soup = BeautifulSoup(response.text, \"lxml\")\n",
        "      bus_menu = soup.find(\"ul\", class_=\"bus-menu\")\n",
        "      bus_menu_count = len(list(bus_menu.find_all(\"li\")))\n",
        "\n",
        "      print()\n",
        "      print(f\"Stops for {full_link} link:\")\n",
        "\n",
        "      try:\n",
        "        print_bus_stops(soup)\n",
        "      except Exception as e:\n",
        "        print(f\"Error in extracting stops for bus {full_link}: {e}\")\n",
        "\n",
        "      if bus_menu_count > 1:\n",
        "        backwards_full_link = f\"https://kudikina.ru{bus_link}/B\"\n",
        "        response = requests.get(backwards_full_link)\n",
        "\n",
        "        if response.status_code == 200:\n",
        "          soup = BeautifulSoup(response.text, \"lxml\")\n",
        "\n",
        "          print()\n",
        "          print(f\"Stops for {backwards_full_link} link:\")\n",
        "\n",
        "          try:\n",
        "            print_bus_stops(soup)\n",
        "          except Exception as e:\n",
        "            print(f\"Error in extracting stops for bus {backwards_full_link}: {e}\")\n",
        "\n",
        "    else:\n",
        "      print(f\"Failed to retrieve data for {full_link}\")\n"
      ]
    }
  ],
  "metadata": {
    "colab": {
      "provenance": []
    },
    "kernelspec": {
      "display_name": "Python 3",
      "name": "python3"
    },
    "language_info": {
      "name": "python"
    }
  },
  "nbformat": 4,
  "nbformat_minor": 0
}
